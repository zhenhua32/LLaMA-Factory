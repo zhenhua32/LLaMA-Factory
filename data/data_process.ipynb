{
 "cells": [
  {
   "cell_type": "code",
   "execution_count": 1,
   "id": "a4cc0bc7",
   "metadata": {},
   "outputs": [],
   "source": [
    "import os\n",
    "import json\n",
    "import pandas as pd"
   ]
  },
  {
   "cell_type": "code",
   "execution_count": 2,
   "id": "e46d0bb6",
   "metadata": {},
   "outputs": [
    {
     "name": "stdout",
     "output_type": "stream",
     "text": [
      "(200, 8)\n"
     ]
    },
    {
     "data": {
      "text/html": [
       "<div>\n",
       "<style scoped>\n",
       "    .dataframe tbody tr th:only-of-type {\n",
       "        vertical-align: middle;\n",
       "    }\n",
       "\n",
       "    .dataframe tbody tr th {\n",
       "        vertical-align: top;\n",
       "    }\n",
       "\n",
       "    .dataframe thead th {\n",
       "        text-align: right;\n",
       "    }\n",
       "</style>\n",
       "<table border=\"1\" class=\"dataframe\">\n",
       "  <thead>\n",
       "    <tr style=\"text-align: right;\">\n",
       "      <th></th>\n",
       "      <th>input</th>\n",
       "      <th>context</th>\n",
       "      <th>answers</th>\n",
       "      <th>length</th>\n",
       "      <th>language</th>\n",
       "      <th>all_classes</th>\n",
       "      <th>dataset</th>\n",
       "      <th>distractor</th>\n",
       "    </tr>\n",
       "  </thead>\n",
       "  <tbody>\n",
       "    <tr>\n",
       "      <th>0</th>\n",
       "      <td>第58届全球帅哥竞选活动有什么特别之处？</td>\n",
       "      <td>\\n\\n### 文章 1\\n\\n交银金融大厦\\n交银金融大厦位于中国上海市浦东新区银城中路1...</td>\n",
       "      <td>[本次活动的参加人数开创了全球帅哥有记录以来最多人数参加的一届。]</td>\n",
       "      <td>32503</td>\n",
       "      <td>cn</td>\n",
       "      <td>NaN</td>\n",
       "      <td>cmrc_mixup_32k</td>\n",
       "      <td>NaN</td>\n",
       "    </tr>\n",
       "    <tr>\n",
       "      <th>1</th>\n",
       "      <td>乙二胺有类似氨的什么气味？</td>\n",
       "      <td>\\n\\n### 文章 1\\n\\n禅那\\n禅那（，，，），又译为驮那演那，佛教术语，意译为思惟...</td>\n",
       "      <td>[香味]</td>\n",
       "      <td>32587</td>\n",
       "      <td>cn</td>\n",
       "      <td>NaN</td>\n",
       "      <td>cmrc_mixup_32k</td>\n",
       "      <td>NaN</td>\n",
       "    </tr>\n",
       "    <tr>\n",
       "      <th>2</th>\n",
       "      <td>新一代研究展举办的目的是？</td>\n",
       "      <td>\\n\\n### 文章 1\\n\\n宋少帝陵\\n宋少帝陵，早期称宋少帝墓，是南宋最后一个皇帝宋少...</td>\n",
       "      <td>[借此以挖掘科学研究大师与优良项目，并将研究产业，与西方进行交流]</td>\n",
       "      <td>32528</td>\n",
       "      <td>cn</td>\n",
       "      <td>NaN</td>\n",
       "      <td>cmrc_mixup_32k</td>\n",
       "      <td>NaN</td>\n",
       "    </tr>\n",
       "    <tr>\n",
       "      <th>3</th>\n",
       "      <td>中华辣椒原产于哪里？</td>\n",
       "      <td>\\n\\n### 文章 1\\n\\n尼姆数\\n组合博弈论引入了一类数学对象，称为尼姆数，它们被定...</td>\n",
       "      <td>[中国、日本、韩国、泰国、新加坡等中南亚洲国家]</td>\n",
       "      <td>32120</td>\n",
       "      <td>cn</td>\n",
       "      <td>NaN</td>\n",
       "      <td>cmrc_mixup_32k</td>\n",
       "      <td>NaN</td>\n",
       "    </tr>\n",
       "    <tr>\n",
       "      <th>4</th>\n",
       "      <td>什么是三角关系？</td>\n",
       "      <td>\\n\\n### 文章 1\\n\\n咱们死人醒来的时候\\n咱们死人醒来的时候 () （When ...</td>\n",
       "      <td>[指一个三个人的团队在某个节点中，沦落到类似以下的境地。如其中两人爱上同一个人，或一个已有情...</td>\n",
       "      <td>32399</td>\n",
       "      <td>cn</td>\n",
       "      <td>NaN</td>\n",
       "      <td>cmrc_mixup_32k</td>\n",
       "      <td>NaN</td>\n",
       "    </tr>\n",
       "  </tbody>\n",
       "</table>\n",
       "</div>"
      ],
      "text/plain": [
       "                  input                                            context  \\\n",
       "0  第58届全球帅哥竞选活动有什么特别之处？  \\n\\n### 文章 1\\n\\n交银金融大厦\\n交银金融大厦位于中国上海市浦东新区银城中路1...   \n",
       "1         乙二胺有类似氨的什么气味？  \\n\\n### 文章 1\\n\\n禅那\\n禅那（，，，），又译为驮那演那，佛教术语，意译为思惟...   \n",
       "2         新一代研究展举办的目的是？  \\n\\n### 文章 1\\n\\n宋少帝陵\\n宋少帝陵，早期称宋少帝墓，是南宋最后一个皇帝宋少...   \n",
       "3            中华辣椒原产于哪里？  \\n\\n### 文章 1\\n\\n尼姆数\\n组合博弈论引入了一类数学对象，称为尼姆数，它们被定...   \n",
       "4              什么是三角关系？  \\n\\n### 文章 1\\n\\n咱们死人醒来的时候\\n咱们死人醒来的时候 () （When ...   \n",
       "\n",
       "                                             answers  length language  \\\n",
       "0                  [本次活动的参加人数开创了全球帅哥有记录以来最多人数参加的一届。]   32503       cn   \n",
       "1                                               [香味]   32587       cn   \n",
       "2                  [借此以挖掘科学研究大师与优良项目，并将研究产业，与西方进行交流]   32528       cn   \n",
       "3                           [中国、日本、韩国、泰国、新加坡等中南亚洲国家]   32120       cn   \n",
       "4  [指一个三个人的团队在某个节点中，沦落到类似以下的境地。如其中两人爱上同一个人，或一个已有情...   32399       cn   \n",
       "\n",
       "   all_classes         dataset  distractor  \n",
       "0          NaN  cmrc_mixup_32k         NaN  \n",
       "1          NaN  cmrc_mixup_32k         NaN  \n",
       "2          NaN  cmrc_mixup_32k         NaN  \n",
       "3          NaN  cmrc_mixup_32k         NaN  \n",
       "4          NaN  cmrc_mixup_32k         NaN  "
      ]
     },
     "execution_count": 2,
     "metadata": {},
     "output_type": "execute_result"
    }
   ],
   "source": [
    "data_file = r\"G:\\code\\pretrain_model_dir\\_modelscope\\LVEval\\cmrc_mixup\\cmrc_mixup_32k.jsonl\"\n",
    "df = pd.read_json(data_file, lines=True)\n",
    "print(df.shape)\n",
    "df.head()"
   ]
  },
  {
   "cell_type": "code",
   "execution_count": 9,
   "id": "a1dd9cff",
   "metadata": {},
   "outputs": [
    {
     "name": "stdout",
     "output_type": "stream",
     "text": [
      "\n",
      "\n",
      "### 文章 1\n",
      "\n",
      "交银金融大厦\n",
      "交银金融大厦位于中国上海市浦东新区银城中路188号，陆家嘴金融贸易区B1-3地块，楼高265米，以建筑高度计算是上海第7高的已建摩天大楼（截至2008年8月）。大\n"
     ]
    }
   ],
   "source": [
    "print(df.iloc[0][\"context\"][:100])"
   ]
  },
  {
   "cell_type": "code",
   "execution_count": 11,
   "id": "aa754806",
   "metadata": {},
   "outputs": [
    {
     "name": "stdout",
     "output_type": "stream",
     "text": [
      "Data saved to cmrc_32k.json\n"
     ]
    }
   ],
   "source": [
    "sharegpt_data = []\n",
    "\n",
    "for _, row in df.iterrows():\n",
    "    conversation = {\n",
    "        \"conversation\": [\n",
    "            {\"from\": \"user\", \"value\": row[\"input\"] + \"从以下内容中搜素并回答上面的问题:\\n\" + row[\"context\"]},\n",
    "            {\"from\": \"assistant\", \"value\": row[\"answers\"][0] if isinstance(row[\"answers\"], list) and row[\"answers\"] else \"\"}\n",
    "        ]\n",
    "    }\n",
    "    sharegpt_data.append(conversation)\n",
    "\n",
    "output_file = \"cmrc_32k.json\"\n",
    "with open(output_file, \"w\", encoding=\"utf-8\") as f:\n",
    "    json.dump(sharegpt_data, f, ensure_ascii=False, indent=2)\n",
    "\n",
    "print(f\"Data saved to {output_file}\")"
   ]
  },
  {
   "cell_type": "code",
   "execution_count": null,
   "id": "4dd7f546",
   "metadata": {},
   "outputs": [],
   "source": []
  },
  {
   "cell_type": "code",
   "execution_count": null,
   "id": "ee86bb3f",
   "metadata": {},
   "outputs": [],
   "source": []
  }
 ],
 "metadata": {
  "kernelspec": {
   "display_name": "venv",
   "language": "python",
   "name": "python3"
  },
  "language_info": {
   "codemirror_mode": {
    "name": "ipython",
    "version": 3
   },
   "file_extension": ".py",
   "mimetype": "text/x-python",
   "name": "python",
   "nbconvert_exporter": "python",
   "pygments_lexer": "ipython3",
   "version": "3.12.7"
  }
 },
 "nbformat": 4,
 "nbformat_minor": 5
}
